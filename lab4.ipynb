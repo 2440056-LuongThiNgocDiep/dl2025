{
 "cells": [
  {
   "cell_type": "code",
   "execution_count": 20,
   "id": "3068201a",
   "metadata": {},
   "outputs": [],
   "source": [
    "import math\n",
    "\n",
    "class SimpleRandom:\n",
    "    def __init__(self, seed=42):\n",
    "        self.modulus = 2**32\n",
    "        self.a = 1664525\n",
    "        self.c = 1013904223\n",
    "        self.state = seed\n",
    "\n",
    "    def rand_float(self):\n",
    "        self.state = (self.a * self.state + self.c) % self.modulus\n",
    "        return self.state / self.modulus\n",
    "\n",
    "rng = SimpleRandom()\n",
    "\n",
    "def sigmoid(x):\n",
    "    return 1 / (1 + math.exp(-x))\n",
    "\n",
    "class Node:\n",
    "    def __init__(self, input_size, weights=None, bias=None):\n",
    "        if weights:\n",
    "            self.weights = weights\n",
    "        else:\n",
    "            self.weights = [rng.rand_float() for _ in range(input_size)]\n",
    "        self.bias = bias if bias is not None else rng.rand_float()\n",
    "\n",
    "    def forward(self, inputs):\n",
    "        total = sum(w * i for w, i in zip(self.weights, inputs)) + self.bias\n",
    "        return sigmoid(total)\n",
    "\n",
    "class Layer:\n",
    "    def __init__(self, input_size, output_size, weights=None, biases=None):\n",
    "        self.nodes = []\n",
    "        for i in range(output_size):\n",
    "            w = weights[i] if weights else None\n",
    "            b = biases[i] if biases else None\n",
    "            self.nodes.append(Node(input_size, w, b))\n",
    "\n",
    "    def forward(self, inputs):\n",
    "        return [node.forward(inputs) for node in self.nodes]\n",
    "\n",
    "class NeuralNetwork:\n",
    "    def __init__(self, layer_sizes, init_type=\"random\", weight_file=None):\n",
    "        self.layers = []\n",
    "        for i in range(len(layer_sizes) - 1):\n",
    "            if init_type == \"file\" and weight_file:\n",
    "                weights, biases = self._load_weights(weight_file, i)\n",
    "                layer = Layer(layer_sizes[i], layer_sizes[i+1], weights, biases)\n",
    "            else:\n",
    "                layer = Layer(layer_sizes[i], layer_sizes[i+1])\n",
    "            self.layers.append(layer)\n",
    "\n",
    "    def _load_weights(self, file, layer_index):\n",
    "        with open(file, 'r') as f:\n",
    "            lines = f.readlines()\n",
    "        start = 0\n",
    "        for i in range(layer_index):\n",
    "            n_nodes = int(lines[start])\n",
    "            start += 1 + n_nodes\n",
    "        n_nodes = int(lines[start])\n",
    "        start += 1\n",
    "        weights = [list(map(float, lines[start+i].split()))[:-1] for i in range(n_nodes)]\n",
    "        biases = [float(lines[start+i].split()[-1]) for i in range(n_nodes)]\n",
    "        return weights, biases\n",
    "\n",
    "    def forward(self, x):\n",
    "        for layer in self.layers:\n",
    "            x = layer.forward(x)\n",
    "        return x\n",
    "\n",
    "def load_config(file):\n",
    "    with open(file) as f:\n",
    "        lines = list(map(int, f.readlines()))\n",
    "    return lines\n",
    "\n"
   ]
  },
  {
   "cell_type": "code",
   "execution_count": 21,
   "id": "900e6022",
   "metadata": {},
   "outputs": [
    {
     "name": "stdout",
     "output_type": "stream",
     "text": [
      "XOR Results:\n",
      "Input: (0, 0) -> Output: 0.6749\n",
      "Input: (0, 1) -> Output: 0.6754\n",
      "Input: (1, 0) -> Output: 0.6773\n",
      "Input: (1, 1) -> Output: 0.6776\n"
     ]
    }
   ],
   "source": [
    "if __name__ == \"__main__\":\n",
    "    arch = load_config(\"config.txt\")\n",
    "    nn = NeuralNetwork(arch, init_type=\"random\")\n",
    "\n",
    "    inputs = [(0,0), (0,1), (1,0), (1,1)]\n",
    "    print(\"XOR Results:\")\n",
    "    for x in inputs:\n",
    "        output = nn.forward(list(x))\n",
    "        print(f\"Input: {x} -> Output: {output[0]:.4f}\")"
   ]
  }
 ],
 "metadata": {
  "kernelspec": {
   "display_name": "Python 3",
   "language": "python",
   "name": "python3"
  },
  "language_info": {
   "codemirror_mode": {
    "name": "ipython",
    "version": 3
   },
   "file_extension": ".py",
   "mimetype": "text/x-python",
   "name": "python",
   "nbconvert_exporter": "python",
   "pygments_lexer": "ipython3",
   "version": "3.11.2"
  }
 },
 "nbformat": 4,
 "nbformat_minor": 5
}
